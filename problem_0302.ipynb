{
 "cells": [
  {
   "cell_type": "markdown",
   "metadata": {},
   "source": [
    "## Quiz #0302"
   ]
  },
  {
   "cell_type": "markdown",
   "metadata": {},
   "source": [
    "### \"Bolt specification\""
   ]
  },
  {
   "cell_type": "code",
   "execution_count": 18,
   "metadata": {},
   "outputs": [],
   "source": [
    "import numpy as np\n",
    "import scipy.stats as st"
   ]
  },
  {
   "cell_type": "markdown",
   "metadata": {},
   "source": [
    "#### Answer the following questions by providing Python code:"
   ]
  },
  {
   "cell_type": "markdown",
   "metadata": {},
   "source": [
    "According to the specification sheet, the average weight of the bolts is $\\mu = 30$gr with $\\sigma = 2$gr.<br>\n",
    "Suppose that a sample of 50 bolts is drawn. "
   ]
  },
  {
   "cell_type": "code",
   "execution_count": 19,
   "metadata": {},
   "outputs": [],
   "source": [
    "mu = 30\n",
    "sigma = 2\n",
    "n = 50\n",
    "df = n-1"
   ]
  },
  {
   "cell_type": "markdown",
   "metadata": {},
   "source": [
    "1). What is the probability that the sample mean is **between** 29.8gr and 30.2gr? (Use Standard Normal and Student-t)"
   ]
  },
  {
   "cell_type": "code",
   "execution_count": 20,
   "metadata": {},
   "outputs": [
    {
     "data": {
      "text/plain": [
       "0.520499877813045"
      ]
     },
     "execution_count": 20,
     "metadata": {},
     "output_type": "execute_result"
    }
   ],
   "source": [
    "# Using the Standard Normal.\n",
    "z1 = (30.2-30)/(2/np.sqrt(50))\n",
    "z2 = (29.8-30)/(2/np.sqrt(50))\n",
    "\n",
    "p_normal1 = st.norm.cdf(z1)-st.norm.cdf(z2)\n",
    "p_normal1"
   ]
  },
  {
   "cell_type": "code",
   "execution_count": 21,
   "metadata": {},
   "outputs": [
    {
     "data": {
      "text/plain": [
       "0.5171504292916964"
      ]
     },
     "execution_count": 21,
     "metadata": {},
     "output_type": "execute_result"
    }
   ],
   "source": [
    "# Using the Student-t.\n",
    "t1 = (30.2-30)/(2/np.sqrt(50))\n",
    "t2 = (29.8-30)/(2/np.sqrt(50))\n",
    "\n",
    "p_student1 = st.t.cdf(z1,df=df)-st.t.cdf(z2,df=df)\n",
    "p_student1"
   ]
  },
  {
   "cell_type": "markdown",
   "metadata": {},
   "source": [
    "2). What is the probability that the sample mean is **larger** than 30.5gr? (Use Standard Normal and Student-t)"
   ]
  },
  {
   "cell_type": "code",
   "execution_count": 22,
   "metadata": {},
   "outputs": [
    {
     "data": {
      "text/plain": [
       "0.0385499358717708"
      ]
     },
     "execution_count": 22,
     "metadata": {},
     "output_type": "execute_result"
    }
   ],
   "source": [
    "# Using the Standard Normal.\n",
    "z1 = (30.5-30)/(2/np.sqrt(50))\n",
    "p_normal2 = 1 - st.norm.cdf(z1)\n",
    "p_normal2"
   ]
  },
  {
   "cell_type": "code",
   "execution_count": 23,
   "metadata": {},
   "outputs": [
    {
     "data": {
      "text/plain": [
       "0.04166307987075457"
      ]
     },
     "execution_count": 23,
     "metadata": {},
     "output_type": "execute_result"
    }
   ],
   "source": [
    "# Using the Student-t.\n",
    "t1 = (30.5-30)/(2/np.sqrt(50))\n",
    "p_student2 = 1 - st.t.cdf(z1,df=df)\n",
    "p_student2"
   ]
  },
  {
   "cell_type": "markdown",
   "metadata": {},
   "source": [
    "## Comparing "
   ]
  },
  {
   "cell_type": "code",
   "execution_count": 24,
   "metadata": {},
   "outputs": [
    {
     "name": "stdout",
     "output_type": "stream",
     "text": [
      "p_normal1 0.520499877813045\n",
      "p_student1 0.5171504292916964\n"
     ]
    }
   ],
   "source": [
    "print(\"p_normal1\",p_normal1)\n",
    "print(\"p_student1\",p_student1)\n",
    "print(\"p_normal > p_student\")"
   ]
  },
  {
   "cell_type": "code",
   "execution_count": 26,
   "metadata": {},
   "outputs": [
    {
     "name": "stdout",
     "output_type": "stream",
     "text": [
      "p_normal2 0.0385499358717708\n",
      "p_student2 0.04166307987075457\n",
      "p_normal < p_student\n"
     ]
    }
   ],
   "source": [
    "print(\"p_normal2\",p_normal2)\n",
    "print(\"p_student2\",p_student2)\n",
    "print(\"p_normal < p_student\")"
   ]
  }
 ],
 "metadata": {
  "kernelspec": {
   "display_name": "Python 3",
   "language": "python",
   "name": "python3"
  },
  "language_info": {
   "codemirror_mode": {
    "name": "ipython",
    "version": 3
   },
   "file_extension": ".py",
   "mimetype": "text/x-python",
   "name": "python",
   "nbconvert_exporter": "python",
   "pygments_lexer": "ipython3",
   "version": "3.8.8"
  },
  "toc": {
   "base_numbering": 1,
   "nav_menu": {},
   "number_sections": true,
   "sideBar": true,
   "skip_h1_title": false,
   "title_cell": "Table of Contents",
   "title_sidebar": "Contents",
   "toc_cell": false,
   "toc_position": {},
   "toc_section_display": true,
   "toc_window_display": false
  },
  "varInspector": {
   "cols": {
    "lenName": 16,
    "lenType": 16,
    "lenVar": 40
   },
   "kernels_config": {
    "python": {
     "delete_cmd_postfix": "",
     "delete_cmd_prefix": "del ",
     "library": "var_list.py",
     "varRefreshCmd": "print(var_dic_list())"
    },
    "r": {
     "delete_cmd_postfix": ") ",
     "delete_cmd_prefix": "rm(",
     "library": "var_list.r",
     "varRefreshCmd": "cat(var_dic_list()) "
    }
   },
   "types_to_exclude": [
    "module",
    "function",
    "builtin_function_or_method",
    "instance",
    "_Feature"
   ],
   "window_display": false
  }
 },
 "nbformat": 4,
 "nbformat_minor": 4
}

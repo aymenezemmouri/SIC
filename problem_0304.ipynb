{
 "cells": [
  {
   "cell_type": "markdown",
   "metadata": {},
   "source": [
    "## Coding Problem #0304"
   ]
  },
  {
   "cell_type": "markdown",
   "metadata": {},
   "source": [
    "### \"Policy support rate\""
   ]
  },
  {
   "cell_type": "code",
   "execution_count": 1,
   "metadata": {},
   "outputs": [],
   "source": [
    "import numpy as np\n",
    "import scipy.stats as st"
   ]
  },
  {
   "cell_type": "markdown",
   "metadata": {},
   "source": [
    "#### Answer the following questions by providing Python code:"
   ]
  },
  {
   "cell_type": "markdown",
   "metadata": {},
   "source": [
    "It is known that the overall policy support rate is 52%. <br>"
   ]
  },
  {
   "cell_type": "code",
   "execution_count": 2,
   "metadata": {},
   "outputs": [],
   "source": [
    "p = 0.52"
   ]
  },
  {
   "cell_type": "markdown",
   "metadata": {},
   "source": [
    "1). What is the probability of support rate less than 50% when asked to 100 people? <br>\n",
    "HINT: Use sample proportion and Standard Normal distribution."
   ]
  },
  {
   "cell_type": "code",
   "execution_count": 45,
   "metadata": {},
   "outputs": [
    {
     "data": {
      "text/plain": [
       "0.3444602779022303"
      ]
     },
     "execution_count": 45,
     "metadata": {},
     "output_type": "execute_result"
    }
   ],
   "source": [
    "n=100\n",
    "std_error = np.sqrt(n*p*(1-p))\n",
    "z = (0.5*n - n*p)/std_error\n",
    "p_normal1 = st.norm.cdf(z)\n",
    "p_normal1"
   ]
  },
  {
   "cell_type": "markdown",
   "metadata": {},
   "source": [
    "2). What is the probability of support rate less than 50% when asked to 300 people? <br>\n",
    "HINT: Use sample proportion and Standard Normal distribution."
   ]
  },
  {
   "cell_type": "code",
   "execution_count": 46,
   "metadata": {},
   "outputs": [
    {
     "data": {
      "text/plain": [
       "0.24403704658262404"
      ]
     },
     "execution_count": 46,
     "metadata": {},
     "output_type": "execute_result"
    }
   ],
   "source": [
    "n=300\n",
    "std_error = np.sqrt(n*p*(1-p))\n",
    "z = (0.5*n - n*p)/std_error\n",
    "p_normal2 = st.norm.cdf(z)\n",
    "p_normal2"
   ]
  },
  {
   "cell_type": "markdown",
   "metadata": {},
   "source": [
    "3). Redo the calculations of 1) and 2) using the Binomial distribution. Then, compare."
   ]
  },
  {
   "cell_type": "code",
   "execution_count": 47,
   "metadata": {},
   "outputs": [
    {
     "data": {
      "text/plain": [
       "0.30815452834059376"
      ]
     },
     "execution_count": 47,
     "metadata": {},
     "output_type": "execute_result"
    }
   ],
   "source": [
    "# Redo of 1).\n",
    "n=100\n",
    "# for n=100, the sample support rate < 50% <=> less than 50 doesn't support policy\n",
    "p_binom1 = st.binom.cdf(50,n,p) - st.binom.pmf(50,n,p)\n",
    "p_binom1"
   ]
  },
  {
   "cell_type": "code",
   "execution_count": 48,
   "metadata": {
    "tags": []
   },
   "outputs": [
    {
     "data": {
      "text/plain": [
       "0.22620549716634722"
      ]
     },
     "execution_count": 48,
     "metadata": {},
     "output_type": "execute_result"
    }
   ],
   "source": [
    "# Redo of 2).\n",
    "n=300\n",
    "# for n=300, the sample support rate < 50% <=> less than 150 doesn't support policy\n",
    "p_binom2 = st.binom.cdf(150,n,p) - st.binom.pmf(150,n,p)\n",
    "p_binom2"
   ]
  },
  {
   "cell_type": "markdown",
   "metadata": {},
   "source": [
    "4). Redo the calculations of 1) and 2) using the Poisson distribution. Then, compare."
   ]
  },
  {
   "cell_type": "code",
   "execution_count": 58,
   "metadata": {},
   "outputs": [
    {
     "data": {
      "text/plain": [
       "0.3721497015738665"
      ]
     },
     "execution_count": 58,
     "metadata": {},
     "output_type": "execute_result"
    }
   ],
   "source": [
    "# Redo of 1).\n",
    "n=100\n",
    "p_poiss1 =st.poisson.cdf(50,n*p) - st.poisson.pmf(50,n*p)\n",
    "p_poiss1"
   ]
  },
  {
   "cell_type": "code",
   "execution_count": 60,
   "metadata": {},
   "outputs": [
    {
     "data": {
      "text/plain": [
       "0.3047996078781204"
      ]
     },
     "execution_count": 60,
     "metadata": {},
     "output_type": "execute_result"
    }
   ],
   "source": [
    "# Redo of 2).\n",
    "n=300\n",
    "p_poiss2 = st.poisson.cdf(150,n*p) - st.poisson.pmf(150,n*p)\n",
    "p_poiss2"
   ]
  },
  {
   "cell_type": "code",
   "execution_count": 62,
   "metadata": {},
   "outputs": [
    {
     "data": {
      "text/plain": [
       "0.028963908400405483"
      ]
     },
     "execution_count": 62,
     "metadata": {},
     "output_type": "execute_result"
    }
   ],
   "source": [
    "st.poisson.pmf(150,n*p)"
   ]
  },
  {
   "cell_type": "markdown",
   "metadata": {},
   "source": [
    "### Comparing"
   ]
  },
  {
   "cell_type": "code",
   "execution_count": 54,
   "metadata": {},
   "outputs": [
    {
     "name": "stdout",
     "output_type": "stream",
     "text": [
      "p_binom1 0.30815452834059376\n",
      "p_normal1 0.3444602779022303\n",
      "p_poiss1 0.3721497015738665\n"
     ]
    }
   ],
   "source": [
    "print(\"p_binom1\",p_binom1)\n",
    "print(\"p_normal1\",p_normal1)\n",
    "print(\"p_poiss1\",p_poiss1)"
   ]
  },
  {
   "cell_type": "code",
   "execution_count": 53,
   "metadata": {},
   "outputs": [
    {
     "name": "stdout",
     "output_type": "stream",
     "text": [
      "p_binom2 0.22620549716634722\n",
      "p_normal2 0.24403704658262404\n",
      "p_poiss2 0.3047996078781204\n"
     ]
    }
   ],
   "source": [
    "print(\"p_binom2\",p_binom2)\n",
    "print(\"p_normal2\",p_normal2)\n",
    "print(\"p_poiss2\",p_poiss2)"
   ]
  },
  {
   "cell_type": "code",
   "execution_count": 61,
   "metadata": {},
   "outputs": [
    {
     "name": "stdout",
     "output_type": "stream",
     "text": [
      "binom < normal < poisson\n"
     ]
    }
   ],
   "source": [
    "print(\"binom < normal < poisson\")"
   ]
  }
 ],
 "metadata": {
  "kernelspec": {
   "display_name": "Python 3",
   "language": "python",
   "name": "python3"
  },
  "language_info": {
   "codemirror_mode": {
    "name": "ipython",
    "version": 3
   },
   "file_extension": ".py",
   "mimetype": "text/x-python",
   "name": "python",
   "nbconvert_exporter": "python",
   "pygments_lexer": "ipython3",
   "version": "3.8.8"
  },
  "toc": {
   "base_numbering": 1,
   "nav_menu": {},
   "number_sections": true,
   "sideBar": true,
   "skip_h1_title": false,
   "title_cell": "Table of Contents",
   "title_sidebar": "Contents",
   "toc_cell": false,
   "toc_position": {},
   "toc_section_display": true,
   "toc_window_display": false
  },
  "varInspector": {
   "cols": {
    "lenName": 16,
    "lenType": 16,
    "lenVar": 40
   },
   "kernels_config": {
    "python": {
     "delete_cmd_postfix": "",
     "delete_cmd_prefix": "del ",
     "library": "var_list.py",
     "varRefreshCmd": "print(var_dic_list())"
    },
    "r": {
     "delete_cmd_postfix": ") ",
     "delete_cmd_prefix": "rm(",
     "library": "var_list.r",
     "varRefreshCmd": "cat(var_dic_list()) "
    }
   },
   "types_to_exclude": [
    "module",
    "function",
    "builtin_function_or_method",
    "instance",
    "_Feature"
   ],
   "window_display": false
  }
 },
 "nbformat": 4,
 "nbformat_minor": 4
}

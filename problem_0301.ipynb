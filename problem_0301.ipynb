{
 "cells": [
  {
   "cell_type": "markdown",
   "metadata": {},
   "source": [
    "## Quiz #0301"
   ]
  },
  {
   "cell_type": "markdown",
   "metadata": {},
   "source": [
    "### \"Sample size\""
   ]
  },
  {
   "cell_type": "code",
   "execution_count": 3,
   "metadata": {},
   "outputs": [],
   "source": [
    "import numpy as np\n",
    "import scipy.stats as st"
   ]
  },
  {
   "cell_type": "markdown",
   "metadata": {},
   "source": [
    "#### Answer the following questions by providing Python code:"
   ]
  },
  {
   "cell_type": "markdown",
   "metadata": {},
   "source": [
    "The female students are known to have mean weight $\\mu=58$kg with  $\\sigma=3$kg. <br>\n",
    "Calculate the *minimum* sample size $n$ in each of the following cases."
   ]
  },
  {
   "cell_type": "code",
   "execution_count": 9,
   "metadata": {},
   "outputs": [],
   "source": [
    "mu = 58.0\n",
    "sigma = 3.0"
   ]
  },
  {
   "cell_type": "markdown",
   "metadata": {},
   "source": [
    "1). When we target the standard error is equal to 1kg:"
   ]
  },
  {
   "cell_type": "code",
   "execution_count": 5,
   "metadata": {},
   "outputs": [
    {
     "data": {
      "text/plain": [
       "9.0"
      ]
     },
     "execution_count": 5,
     "metadata": {},
     "output_type": "execute_result"
    }
   ],
   "source": [
    "se = 1\n",
    "#n = (sigma)**2/(se)**2\n",
    "n = (sigma)**2/(se)**2\n",
    "print(n)"
   ]
  },
  {
   "cell_type": "markdown",
   "metadata": {},
   "source": [
    "2). When we want the margin error $ME$ of the 95% confidence interval to be equal to 2kg: <br>\n",
    "NOTE: Use the Standard Normal distribution."
   ]
  },
  {
   "cell_type": "code",
   "execution_count": 12,
   "metadata": {},
   "outputs": [
    {
     "name": "stdout",
     "output_type": "stream",
     "text": [
      "8.643282346561781\n"
     ]
    },
    {
     "data": {
      "text/plain": [
       "9"
      ]
     },
     "execution_count": 12,
     "metadata": {},
     "output_type": "execute_result"
    }
   ],
   "source": [
    "# n = ((z*sigma)/w)**2\n",
    "w = 2\n",
    "z = st.norm.ppf(0.975)\n",
    "\n",
    "n0 = ((z*sigma)/w)**2\n",
    "print(n0)\n",
    "int(n0)+1"
   ]
  },
  {
   "cell_type": "markdown",
   "metadata": {},
   "source": [
    "3). When we want the margin error $ME$ of the 95% confidence interval to be equal to 2kg: <br>\n",
    "NOTE: Use the Student-t distribution. <br>\n",
    "HINT: As the Student-t distribution depends on $n$, it is not as straightforward as in the Stadard Normal case."
   ]
  },
  {
   "cell_type": "code",
   "execution_count": 15,
   "metadata": {},
   "outputs": [
    {
     "name": "stdout",
     "output_type": "stream",
     "text": [
      "nan\n",
      "12.706204736432095\n",
      "4.302652729911275\n",
      "3.182446305284263\n",
      "2.7764451051977987\n",
      "2.5705818366147395\n",
      "2.4469118487916806\n",
      "2.3646242510102993\n",
      "2.3060041350333704\n",
      "2.2621571627409915\n",
      "2.2281388519649385\n",
      "2.200985160082949\n",
      "2.1788128296634177\n",
      "2.1603686564610127\n",
      "2.1447866879169273\n",
      "2.131449545559323\n",
      "2.1199052992210112\n",
      "2.1098155778331806\n",
      "2.10092204024096\n",
      "2.093024054408263\n",
      "2.0859634472658364\n",
      "2.079613844727662\n",
      "2.0738730679040147\n",
      "2.0686576104190406\n",
      "2.0638985616280205\n",
      "2.059538552753294\n",
      "2.055529438642871\n",
      "2.0518305164802833\n",
      "2.048407141795244\n",
      "2.045229642132703\n",
      "2.0422724563012373\n",
      "2.0395134463964077\n",
      "2.036933343460101\n",
      "2.0345152974493383\n",
      "2.032244509317718\n",
      "2.0301079282503425\n",
      "2.0280940009804502\n",
      "2.0261924630291093\n",
      "2.024394164575136\n",
      "2.022690911734728\n",
      "2.0210753829953374\n",
      "2.0195409639828936\n",
      "2.018081697095881\n",
      "2.0166921941428133\n",
      "2.015367569912941\n",
      "2.0141033848332923\n",
      "2.0128955952945886\n",
      "2.0117405104757546\n",
      "2.0106347546964454\n",
      "2.009575234489209\n",
      "2.008559109715206\n",
      "2.007583768155882\n",
      "2.0066468031022113\n",
      "2.0057459935369497\n",
      "2.004879286566523\n",
      "2.004044781810181\n",
      "2.0032407174966975\n",
      "2.0024654580545986\n",
      "2.0017174830120923\n",
      "2.00099537704821\n",
      "2.0002978210582616\n",
      "1.9996235841149779\n",
      "1.9989715162223112\n",
      "1.9983405417721956\n",
      "1.9977296536259734\n",
      "1.9971379077520122\n",
      "1.9965644183594744\n",
      "1.9960083534755055\n",
      "1.9954689309194018\n",
      "1.9949454146328136\n",
      "1.9944371113297727\n",
      "1.993943367434504\n",
      "1.9934635662785827\n",
      "1.9929971255321663\n",
      "1.99254349484682\n",
      "1.9921021536898653\n",
      "1.9916726093523487\n",
      "1.9912543951146038\n",
      "1.990847068555052\n",
      "1.9904502099893602\n",
      "1.990063421028384\n",
      "1.9896863232444828\n",
      "1.9893185569368186\n",
      "1.988959779987179\n",
      "1.9886096667986732\n",
      "1.9882679073103775\n",
      "1.9879342060816718\n",
      "1.9876082814405769\n",
      "1.9872898646909385\n",
      "1.9869786993737677\n",
      "1.9866745405784678\n",
      "1.9863771543000648\n",
      "1.9860863168388934\n",
      "1.9858018142395026\n",
      "1.9855234417658298\n",
      "1.9852510034099262\n",
      "1.984984311431769\n",
      "1.984723185927883\n",
      "1.984467454426692\n",
      "1.9842169515086827\n"
     ]
    }
   ],
   "source": [
    "# we need the degree of freedom to calculate the t score  \n",
    "for df in range(0,100,1) :\n",
    "    t = st.t.ppf(0.975,df)\n",
    "    print(t)\n",
    "    \n"
   ]
  },
  {
   "cell_type": "code",
   "execution_count": null,
   "metadata": {},
   "outputs": [],
   "source": []
  }
 ],
 "metadata": {
  "kernelspec": {
   "display_name": "Python 3",
   "language": "python",
   "name": "python3"
  },
  "language_info": {
   "codemirror_mode": {
    "name": "ipython",
    "version": 3
   },
   "file_extension": ".py",
   "mimetype": "text/x-python",
   "name": "python",
   "nbconvert_exporter": "python",
   "pygments_lexer": "ipython3",
   "version": "3.8.8"
  },
  "toc": {
   "base_numbering": 1,
   "nav_menu": {},
   "number_sections": true,
   "sideBar": true,
   "skip_h1_title": false,
   "title_cell": "Table of Contents",
   "title_sidebar": "Contents",
   "toc_cell": false,
   "toc_position": {},
   "toc_section_display": true,
   "toc_window_display": false
  },
  "varInspector": {
   "cols": {
    "lenName": 16,
    "lenType": 16,
    "lenVar": 40
   },
   "kernels_config": {
    "python": {
     "delete_cmd_postfix": "",
     "delete_cmd_prefix": "del ",
     "library": "var_list.py",
     "varRefreshCmd": "print(var_dic_list())"
    },
    "r": {
     "delete_cmd_postfix": ") ",
     "delete_cmd_prefix": "rm(",
     "library": "var_list.r",
     "varRefreshCmd": "cat(var_dic_list()) "
    }
   },
   "types_to_exclude": [
    "module",
    "function",
    "builtin_function_or_method",
    "instance",
    "_Feature"
   ],
   "window_display": false
  }
 },
 "nbformat": 4,
 "nbformat_minor": 4
}
